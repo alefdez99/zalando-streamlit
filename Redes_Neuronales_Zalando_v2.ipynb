{
 "cells": [
  {
   "cell_type": "code",
   "execution_count": null,
   "metadata": {
    "colab": {
     "base_uri": "https://localhost:8080/"
    },
    "id": "kUrZUwCQVZqZ",
    "outputId": "7c444003-4a3b-4216-d181-45827fe43dbd"
   },
   "outputs": [],
   "source": [
    "import tensorflow as tf\n",
    "\n",
    "# Helper libraries\n",
    "import numpy as np\n",
    "import matplotlib.pyplot as plt\n",
    "\n",
    "(train_images, train_labels), (test_images, test_labels) = tf.keras.datasets.fashion_mnist.load_data()\n"
   ]
  },
  {
   "cell_type": "code",
   "execution_count": null,
   "metadata": {
    "colab": {
     "base_uri": "https://localhost:8080/"
    },
    "id": "GQf_QZKzWmkL",
    "outputId": "5590c9e8-1e66-4016-992d-fe44cb727b37"
   },
   "outputs": [],
   "source": [
    "# Output: (60000, 28, 28)\n",
    "print(train_images.shape)"
   ]
  },
  {
   "cell_type": "code",
   "execution_count": null,
   "metadata": {
    "colab": {
     "base_uri": "https://localhost:8080/"
    },
    "id": "B83zFYh_WqMk",
    "outputId": "7c8f51f8-9844-4ff4-a6c8-74e5d14b293e"
   },
   "outputs": [],
   "source": [
    "# Output: 60000\n",
    "print(len(train_labels))"
   ]
  },
  {
   "cell_type": "code",
   "execution_count": null,
   "metadata": {
    "colab": {
     "base_uri": "https://localhost:8080/"
    },
    "id": "qcV1qrjMWuE7",
    "outputId": "f0568907-dc90-40fa-b0eb-2cbb74fdc796"
   },
   "outputs": [],
   "source": [
    "# Output: (10000, 28, 28)\n",
    "print(test_images.shape)"
   ]
  },
  {
   "cell_type": "code",
   "execution_count": null,
   "metadata": {
    "colab": {
     "base_uri": "https://localhost:8080/"
    },
    "id": "YIY8ZIiCWxtl",
    "outputId": "8a29dbc3-8246-411c-814f-61fc5179de66"
   },
   "outputs": [],
   "source": [
    "\n",
    "# Output: 1000\n",
    "print(len(test_labels))"
   ]
  },
  {
   "cell_type": "code",
   "execution_count": null,
   "metadata": {
    "colab": {
     "base_uri": "https://localhost:8080/"
    },
    "id": "lFEAPvKxW7p_",
    "outputId": "6c795398-f28f-4aba-fb2a-75db8333ead7"
   },
   "outputs": [],
   "source": [
    "# Output: array([0, 1, 2, 3, 4, 5, 6, 7, 8, 9], dtype=uint8)\n",
    "print(np.unique(train_labels))"
   ]
  },
  {
   "cell_type": "code",
   "execution_count": null,
   "metadata": {
    "colab": {
     "base_uri": "https://localhost:8080/"
    },
    "id": "AeAKRiaGW9gq",
    "outputId": "34a08e29-70b8-42fb-f2cb-0db49fd1579d"
   },
   "outputs": [],
   "source": [
    "print(\"Elemento 125:\", train_labels[125])"
   ]
  },
  {
   "cell_type": "code",
   "execution_count": null,
   "metadata": {
    "colab": {
     "base_uri": "https://localhost:8080/",
     "height": 430
    },
    "id": "xlk92xf_XQSr",
    "outputId": "00f594f9-8c92-42ef-b799-f9e6ebe3e729"
   },
   "outputs": [],
   "source": [
    "plt.figure()\n",
    "plt.imshow(train_images[125])\n",
    "plt.colorbar()\n",
    "plt.grid(False)\n",
    "plt.show()"
   ]
  },
  {
   "cell_type": "code",
   "execution_count": null,
   "metadata": {
    "colab": {
     "base_uri": "https://localhost:8080/"
    },
    "id": "aXsci44fYUw6",
    "outputId": "79b970da-e7bc-4fae-d3d3-e174df81eb8a"
   },
   "outputs": [],
   "source": [
    "print(\"Max value:\", max(train_images[125].reshape(784)))\n",
    "print(\"Min value:\", min(train_images[125].reshape(784)))\n",
    "print(\"Elemento 125:\", train_images[125])\n",
    "print(\"Elemento 125:\", train_images[125].reshape(784))"
   ]
  },
  {
   "cell_type": "code",
   "execution_count": null,
   "metadata": {
    "id": "ltPQxFTPYvrO"
   },
   "outputs": [],
   "source": [
    "train_images = train_images / 255.0\n",
    "test_images = test_images / 255.0"
   ]
  },
  {
   "cell_type": "code",
   "execution_count": null,
   "metadata": {
    "colab": {
     "base_uri": "https://localhost:8080/"
    },
    "id": "7uh_rIyoY6be",
    "outputId": "c8f04d86-20c2-4a46-b506-56c09bd44bcd"
   },
   "outputs": [],
   "source": [
    "print(\"Max value:\", max(train_images[125].reshape(784)))\n",
    "print(\"Min value:\", min(train_images[125].reshape(784)))\n",
    "\n",
    "x_train = train_images.reshape(60000, 784)\n",
    "x_test = test_images.reshape(10000, 784)\n",
    "print(\"Elemento 125:\", train_images[125])\n",
    "print(\"Elemento 125:\", train_images[125].reshape(784))"
   ]
  },
  {
   "cell_type": "code",
   "execution_count": null,
   "metadata": {
    "colab": {
     "base_uri": "https://localhost:8080/"
    },
    "id": "FQhixsjpZJOt",
    "outputId": "870e3f90-a2c8-4e58-fc38-b82957907b0c"
   },
   "outputs": [],
   "source": [
    "model = tf.keras.Sequential([\n",
    "    tf.keras.layers.Flatten(input_shape=(28, 28)),\n",
    "    tf.keras.layers.Dense(512, activation='relu', kernel_initializer='he_uniform'),\n",
    "    tf.keras.layers.Dense(10, activation='softmax')\n",
    "])"
   ]
  },
  {
   "cell_type": "code",
   "execution_count": null,
   "metadata": {
    "colab": {
     "base_uri": "https://localhost:8080/",
     "height": 225
    },
    "id": "J7cc_mt4ZTaS",
    "outputId": "7e8a7911-1a9b-4190-f5be-b6acc296a585"
   },
   "outputs": [],
   "source": [
    "model.summary()"
   ]
  },
  {
   "cell_type": "code",
   "execution_count": null,
   "metadata": {
    "colab": {
     "base_uri": "https://localhost:8080/"
    },
    "id": "5-6DpRHMZX5t",
    "outputId": "0094cbbb-61f1-41b4-9a06-a74612e72eea"
   },
   "outputs": [],
   "source": [
    "model.compile(optimizer='adam',\n",
    "              loss='sparse_categorical_crossentropy',\n",
    "              metrics=['accuracy'])\n",
    "\n",
    "model.fit(train_images, train_labels, batch_size=64, epochs=10)"
   ]
  },
  {
   "cell_type": "code",
   "execution_count": null,
   "metadata": {
    "colab": {
     "base_uri": "https://localhost:8080/"
    },
    "id": "JVredVRBZiN7",
    "outputId": "382658f4-1839-4f52-b43d-c5a1aec9a7fc"
   },
   "outputs": [],
   "source": [
    "test_loss, test_acc = model.evaluate(test_images,  test_labels, verbose=0)\n",
    "\n",
    "print('\\nTest loss:', test_loss)\n",
    "print('\\nTest accuracy:', test_acc)"
   ]
  },
  {
   "cell_type": "code",
   "execution_count": null,
   "metadata": {
    "colab": {
     "base_uri": "https://localhost:8080/"
    },
    "id": "ra6KudnEZ_PK",
    "outputId": "a90db947-7fa5-46ee-deca-8ad926ccf1da"
   },
   "outputs": [],
   "source": [
    "predictions = np.round(model.predict(test_images), 2)\n",
    "print(predictions[98])\n",
    "print(np.argmax(predictions[98]))\n",
    "\n",
    "print(test_labels[98])"
   ]
  },
  {
   "cell_type": "code",
   "execution_count": null,
   "metadata": {
    "id": "oQ6NbGD4bXOv"
   },
   "outputs": [],
   "source": [
    "model.save('fashion_mnist.keras')"
   ]
  }
 ],
 "metadata": {
  "accelerator": "GPU",
  "colab": {
   "gpuType": "T4",
   "provenance": []
  },
  "kernelspec": {
   "display_name": "Python 3",
   "name": "python3"
  },
  "language_info": {
   "name": "python"
  }
 },
 "nbformat": 4,
 "nbformat_minor": 0
}
